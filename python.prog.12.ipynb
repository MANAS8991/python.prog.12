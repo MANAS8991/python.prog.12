{
 "cells": [
  {
   "cell_type": "markdown",
   "id": "82475f36",
   "metadata": {},
   "source": [
    "# 1. Write a Python program to Extract Unique values dictionary values?"
   ]
  },
  {
   "cell_type": "code",
   "execution_count": 1,
   "id": "158c515d",
   "metadata": {},
   "outputs": [
    {
     "name": "stdout",
     "output_type": "stream",
     "text": [
      "Dictionary: {'key1': [1, 2, 3], 'key2': [2, 3, 4], 'key3': [3, 4, 5]}\n",
      "Unique values: {1, 2, 3, 4, 5}\n"
     ]
    }
   ],
   "source": [
    "def extract_unique_values(dictionary):\n",
    "    unique_values = set()\n",
    "\n",
    "    # Iterate over the values of the dictionary\n",
    "    for values in dictionary.values():\n",
    "        # Check if each value is iterable\n",
    "        if isinstance(values, (list, set, tuple)):\n",
    "            # Add each element of the iterable to the unique_values set\n",
    "            for value in values:\n",
    "                unique_values.add(value)\n",
    "        else:\n",
    "            # Add the single value to the unique_values set\n",
    "            unique_values.add(values)\n",
    "\n",
    "    return unique_values\n",
    "\n",
    "# Example usage\n",
    "dictionary = {\n",
    "    'key1': [1, 2, 3],\n",
    "    'key2': [2, 3, 4],\n",
    "    'key3': [3, 4, 5]\n",
    "}\n",
    "\n",
    "unique_values = extract_unique_values(dictionary)\n",
    "\n",
    "print(\"Dictionary:\", dictionary)\n",
    "print(\"Unique values:\", unique_values)\n"
   ]
  },
  {
   "cell_type": "markdown",
   "id": "2c3f3856",
   "metadata": {},
   "source": [
    "# 2. Write a Python program to find the sum of all items in a dictionary?"
   ]
  },
  {
   "cell_type": "code",
   "execution_count": 2,
   "id": "53d2b058",
   "metadata": {},
   "outputs": [
    {
     "name": "stdout",
     "output_type": "stream",
     "text": [
      "Dictionary: {'a': 10, 'b': 20, 'c': 30}\n",
      "Sum of dictionary items: 60\n"
     ]
    }
   ],
   "source": [
    "def sum_of_dictionary_items(dictionary):\n",
    "    return sum(dictionary.values())\n",
    "\n",
    "# Example usage\n",
    "dictionary = {'a': 10, 'b': 20, 'c': 30}\n",
    "\n",
    "total_sum = sum_of_dictionary_items(dictionary)\n",
    "\n",
    "print(\"Dictionary:\", dictionary)\n",
    "print(\"Sum of dictionary items:\", total_sum)\n"
   ]
  },
  {
   "cell_type": "markdown",
   "id": "11eee6ee",
   "metadata": {},
   "source": [
    "# 3. Write a Python program to Merging two Dictionaries?"
   ]
  },
  {
   "cell_type": "code",
   "execution_count": 3,
   "id": "6ee2ab5f",
   "metadata": {},
   "outputs": [
    {
     "name": "stdout",
     "output_type": "stream",
     "text": [
      "Dictionary 1: {'a': 1, 'b': 2}\n",
      "Dictionary 2: {'c': 3, 'd': 4}\n",
      "Merged Dictionary: {'a': 1, 'b': 2, 'c': 3, 'd': 4}\n"
     ]
    }
   ],
   "source": [
    "def merge_dictionaries(dict1, dict2):\n",
    "    merged_dict = dict1.copy()\n",
    "    merged_dict.update(dict2)\n",
    "    return merged_dict\n",
    "\n",
    "# Example usage\n",
    "dict1 = {'a': 1, 'b': 2}\n",
    "dict2 = {'c': 3, 'd': 4}\n",
    "\n",
    "merged_dict = merge_dictionaries(dict1, dict2)\n",
    "\n",
    "print(\"Dictionary 1:\", dict1)\n",
    "print(\"Dictionary 2:\", dict2)\n",
    "print(\"Merged Dictionary:\", merged_dict)\n"
   ]
  },
  {
   "cell_type": "markdown",
   "id": "123f5367",
   "metadata": {},
   "source": [
    "# 4. Write a Python program to convert key-values list to flat dictionary?"
   ]
  },
  {
   "cell_type": "code",
   "execution_count": 4,
   "id": "45cb03f2",
   "metadata": {},
   "outputs": [
    {
     "name": "stdout",
     "output_type": "stream",
     "text": [
      "Key-Values List: [('a', 1), ('b', 2), ('c', 3)]\n",
      "Flat Dictionary: {'a': 1, 'b': 2, 'c': 3}\n"
     ]
    }
   ],
   "source": [
    "def convert_to_flat_dict(key_values):\n",
    "    flat_dict = {}\n",
    "    for key, value in key_values:\n",
    "        flat_dict[key] = value\n",
    "    return flat_dict\n",
    "\n",
    "# Example usage\n",
    "key_values = [('a', 1), ('b', 2), ('c', 3)]\n",
    "\n",
    "flat_dict = convert_to_flat_dict(key_values)\n",
    "\n",
    "print(\"Key-Values List:\", key_values)\n",
    "print(\"Flat Dictionary:\", flat_dict)\n"
   ]
  },
  {
   "cell_type": "markdown",
   "id": "26d955e3",
   "metadata": {},
   "source": [
    "# 5. Write a Python program to insertion at the beginning in OrderedDict?"
   ]
  },
  {
   "cell_type": "code",
   "execution_count": 5,
   "id": "b5278a03",
   "metadata": {},
   "outputs": [
    {
     "name": "stdout",
     "output_type": "stream",
     "text": [
      "Original OrderedDict: OrderedDict([('a', 1), ('b', 2), ('c', 3)])\n",
      "Modified OrderedDict: OrderedDict([('d', 4), ('a', 1), ('b', 2), ('c', 3)])\n"
     ]
    }
   ],
   "source": [
    "from collections import OrderedDict\n",
    "\n",
    "def insert_at_beginning(ordered_dict, key, value):\n",
    "    ordered_dict[key] = value\n",
    "    ordered_dict.move_to_end(key, last=False)\n",
    "\n",
    "# Example usage\n",
    "ordered_dict = OrderedDict([('a', 1), ('b', 2), ('c', 3)])\n",
    "\n",
    "print(\"Original OrderedDict:\", ordered_dict)\n",
    "\n",
    "insert_at_beginning(ordered_dict, 'd', 4)\n",
    "\n",
    "print(\"Modified OrderedDict:\", ordered_dict)\n"
   ]
  },
  {
   "cell_type": "markdown",
   "id": "ef1ddc04",
   "metadata": {},
   "source": [
    "# 6. Write a Python program to check order of character in string using OrderedDict()?"
   ]
  },
  {
   "cell_type": "code",
   "execution_count": 6,
   "id": "38fa9693",
   "metadata": {},
   "outputs": [
    {
     "name": "stdout",
     "output_type": "stream",
     "text": [
      "hello => Order is unique: False\n",
      "world => Order is unique: True\n",
      "python => Order is unique: True\n"
     ]
    }
   ],
   "source": [
    "from collections import OrderedDict\n",
    "\n",
    "def check_order_of_characters(string):\n",
    "    ordered_dict = OrderedDict()\n",
    "\n",
    "    for char in string:\n",
    "        if char not in ordered_dict:\n",
    "            ordered_dict[char] = None\n",
    "        else:\n",
    "            return False\n",
    "\n",
    "    return True\n",
    "\n",
    "# Example usage\n",
    "string1 = \"hello\"\n",
    "string2 = \"world\"\n",
    "string3 = \"python\"\n",
    "\n",
    "print(string1, \"=> Order is unique:\", check_order_of_characters(string1))\n",
    "print(string2, \"=> Order is unique:\", check_order_of_characters(string2))\n",
    "print(string3, \"=> Order is unique:\", check_order_of_characters(string3))\n"
   ]
  },
  {
   "cell_type": "markdown",
   "id": "03122182",
   "metadata": {},
   "source": [
    "# 7Write a Python program to sort Python Dictionaries by Key or Value?"
   ]
  },
  {
   "cell_type": "code",
   "execution_count": 7,
   "id": "56c39231",
   "metadata": {},
   "outputs": [
    {
     "name": "stdout",
     "output_type": "stream",
     "text": [
      "{'a': 1, 'b': 2, 'c': 3}\n"
     ]
    }
   ],
   "source": [
    "def sort_dictionary_by_key(dictionary):\n",
    "    sorted_dict = {}\n",
    "    for key in sorted(dictionary.keys()):\n",
    "        sorted_dict[key] = dictionary[key]\n",
    "    return sorted_dict\n",
    "\n",
    "# Example usage\n",
    "my_dict = {'b': 2, 'a': 1, 'c': 3}\n",
    "sorted_by_key = sort_dictionary_by_key(my_dict)\n",
    "print(sorted_by_key)\n"
   ]
  },
  {
   "cell_type": "code",
   "execution_count": 8,
   "id": "8a85705b",
   "metadata": {},
   "outputs": [
    {
     "name": "stdout",
     "output_type": "stream",
     "text": [
      "{'a': 1, 'b': 2, 'c': 3}\n"
     ]
    }
   ],
   "source": [
    "def sort_dictionary_by_value(dictionary):\n",
    "    sorted_dict = {}\n",
    "    for key, value in sorted(dictionary.items(), key=lambda item: item[1]):\n",
    "        sorted_dict[key] = value\n",
    "    return sorted_dict\n",
    "\n",
    "# Example usage\n",
    "my_dict = {'b': 2, 'a': 1, 'c': 3}\n",
    "sorted_by_value = sort_dictionary_by_value(my_dict)\n",
    "print(sorted_by_value)\n"
   ]
  },
  {
   "cell_type": "code",
   "execution_count": null,
   "id": "e889d023",
   "metadata": {},
   "outputs": [],
   "source": []
  }
 ],
 "metadata": {
  "kernelspec": {
   "display_name": "Python 3 (ipykernel)",
   "language": "python",
   "name": "python3"
  },
  "language_info": {
   "codemirror_mode": {
    "name": "ipython",
    "version": 3
   },
   "file_extension": ".py",
   "mimetype": "text/x-python",
   "name": "python",
   "nbconvert_exporter": "python",
   "pygments_lexer": "ipython3",
   "version": "3.9.12"
  }
 },
 "nbformat": 4,
 "nbformat_minor": 5
}
